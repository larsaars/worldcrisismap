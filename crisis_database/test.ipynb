{
 "cells": [
  {
   "cell_type": "code",
   "execution_count": 291,
   "id": "64cc27a9-21a9-45b2-9585-f717dcad2bdc",
   "metadata": {},
   "outputs": [],
   "source": [
    "import pandas as pd\n",
    "import ijson\n",
    "from urllib.request import urlopen\n",
    "import json\n",
    "import os, sys\n",
    "from dotenv import load_dotenv\n",
    "import psycopg2 as pg\n",
    "# TODO this all in updater file, update only all two days"
   ]
  },
  {
   "cell_type": "code",
   "execution_count": 292,
   "id": "b2eaedc4-27dd-4ec9-8562-166b867adca5",
   "metadata": {},
   "outputs": [],
   "source": [
    "# load environment variables \n",
    "load_dotenv()\n",
    "\n",
    "# get environment variables\n",
    "DB_CON_STRING = os.getenv('DB_CON_STRING', None)\n",
    "\n",
    "# build up database connection\n",
    "try:\n",
    "    connection = pg.connect(DB_CON_STRING)\n",
    "except Exception as e:\n",
    "    printerr(e)\n",
    "\n",
    "cur = connection.cursor()"
   ]
  },
  {
   "cell_type": "code",
   "execution_count": 98,
   "id": "32f79357-c38c-411d-95c5-8a87b2e76566",
   "metadata": {},
   "outputs": [],
   "source": [
    "json_url = 'https://dataex.ohchr.org/uhri/export-results/export-full-en.json'"
   ]
  },
  {
   "cell_type": "code",
   "execution_count": 294,
   "id": "ce2fe63f-d64c-4b85-b5f7-d13d4636523f",
   "metadata": {},
   "outputs": [],
   "source": [
    "f = urlopen(json_url)"
   ]
  },
  {
   "cell_type": "code",
   "execution_count": 295,
   "id": "e3bf7123-98f5-412b-800d-aff6b0d21210",
   "metadata": {},
   "outputs": [],
   "source": [
    "objects = ijson.items(f, 'item')"
   ]
  },
  {
   "cell_type": "code",
   "execution_count": 296,
   "id": "ba83566d-7f34-4003-ac41-06d8e87123a0",
   "metadata": {},
   "outputs": [],
   "source": [
    "observations = (o for o in objects if o['AnnotationType'] == '- Concerns/Observations')"
   ]
  },
  {
   "cell_type": "code",
   "execution_count": 297,
   "id": "4074fd26-1606-48af-87f4-843517425edc",
   "metadata": {},
   "outputs": [],
   "source": [
    "with open('/home/me/projects/worldcrisismap/crisis_database/mappers/uhri_country_mapping.json', 'r') as f:  #TODO PATH RELATIONAL \n",
    "    country_dict = json.load(f)"
   ]
  },
  {
   "cell_type": "code",
   "execution_count": null,
   "id": "09613e52-f450-4391-ae2e-21d147951be2",
   "metadata": {},
   "outputs": [],
   "source": [
    "cur.execute('''\n",
    "TRUNCATE TABLE human;\n",
    "TRUNCATE TABLE human_text;\n",
    "''')\n",
    "connection.commit()"
   ]
  },
  {
   "cell_type": "code",
   "execution_count": 309,
   "id": "5eaa5d3e-403c-40f5-981b-c9aa189f77d4",
   "metadata": {},
   "outputs": [],
   "source": [
    "doc_data = {}  # COMMENT THIS\n",
    "\n",
    "for o in observations:\n",
    "    doc_id = o['DocumentId']\n",
    "    doc = data.get(doc_id)\n",
    "\n",
    "    if doc == None:\n",
    "        doc_data[doc_id] = doc = {\n",
    "            'date': o['PublicationDate'],\n",
    "            'countries': set(o['Countries']),\n",
    "        }\n",
    "\n",
    "        db_cmd = 'INSERT INTO human_text(id, text) VALUES (%(id)s, %(text)s)'\n",
    "    else:\n",
    "        db_cmd = 'UPDATE human_text SET text = CONCAT(text, %(text)s) WHERE id = %(id)s;'\n",
    "\n",
    "    try:\n",
    "        cur.execute(db_cmd, {\n",
    "                        'id': doc_id, \n",
    "                        'text': '<br>' + o['Text']\n",
    "                    })\n",
    "        connection.commit()\n",
    "    except:\n",
    "        connection.rollback()\n",
    "\n",
    "    doc['countries'].update(o['Countries'])"
   ]
  },
  {
   "cell_type": "code",
   "execution_count": 9,
   "id": "46335abd-23c3-4c82-99b2-dc48afc37b76",
   "metadata": {
    "editable": true,
    "slideshow": {
     "slide_type": ""
    },
    "tags": []
   },
   "outputs": [],
   "source": [
    "# loop through each single document TODO\n",
    "for doc_id in doc_data:\n",
    "    # these information are needed (and loaded into database 'human')\n",
    "    # - date\n",
    "    # - country name\n",
    "    # - geojson paths (from country iso3s)\n",
    "    # - lat / lon\n",
    "    # - title\n",
    "    # - text\n",
    "\n",
    "    try:\n",
    "        # all unique country codes involved in the document\n",
    "        country_names_involved = list(set(sum(list(entries.Countries.values), start=[])))\n",
    "    \n",
    "        # if there are no country names involved, skip entry\n",
    "        if len(country_names_involved) == 0:\n",
    "            continue\n",
    "        \n",
    "        date = entries.PublicationDate.values[0]\n",
    "        country_name = country_names_involved[0]  # only one first country name is needed\n",
    "        \n",
    "        geojson = ['countries/' + country_dict[country]['iso3'] + '.json' for country in country_names_involved]\n",
    "        \n",
    "        lat, lon = country_dict[country_name]['lat'], country_dict[country_name]['lon']\n",
    "    \n",
    "        title = 'Human Right Violations in ' + country_name\n",
    "        text = '<br>'.join(list(entries(.Text.values))\n",
    "\n",
    "                id INTEGER PRIMARY KEY,\n",
    "        date TIMESTAMP,\n",
    "        country_name VARCHAR(150),\n",
    "        geojson VARCHAR(8000),\n",
    "        lat DECIMAL(10,7) CHECK (lat >= -90 AND lat <= 90),\n",
    "        lon DECIMAL(10,7) CHECK (lon >= -180 AND lon <= 180),\n",
    "        type VARCHAR(200),\n",
    "        url VARCHAR(500),\n",
    "        title VARCHAR(500)\n",
    "\n",
    "        cur.execute('''\n",
    "INSERT INTO human(id, ;\n",
    "        ''', {\n",
    "            'date': \n",
    "        }\n",
    "\n",
    "        connection.commit()\n",
    "    except:\n",
    "        connection.rollback()"
   ]
  },
  {
   "cell_type": "code",
   "execution_count": null,
   "id": "f79ba701-66ec-4300-bea4-138c2c3af990",
   "metadata": {},
   "outputs": [],
   "source": []
  }
 ],
 "metadata": {
  "kernelspec": {
   "display_name": "Python 3 (ipykernel)",
   "language": "python",
   "name": "python3"
  },
  "language_info": {
   "codemirror_mode": {
    "name": "ipython",
    "version": 3
   },
   "file_extension": ".py",
   "mimetype": "text/x-python",
   "name": "python",
   "nbconvert_exporter": "python",
   "pygments_lexer": "ipython3",
   "version": "3.10.9"
  }
 },
 "nbformat": 4,
 "nbformat_minor": 5
}
