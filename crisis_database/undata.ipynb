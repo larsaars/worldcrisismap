{
 "cells": [
  {
   "cell_type": "code",
   "execution_count": 1,
   "id": "5136239c-015e-4f9b-9163-6a7a7d997d94",
   "metadata": {},
   "outputs": [],
   "source": [
    "import pandas as pd\n",
    "import json\n",
    "from itertools import chain"
   ]
  },
  {
   "cell_type": "code",
   "execution_count": 2,
   "id": "23d10509-c481-4608-8718-cd090348f51c",
   "metadata": {},
   "outputs": [],
   "source": [
    "d = json.load(open('export-full-en.json'))"
   ]
  },
  {
   "cell_type": "code",
   "execution_count": 3,
   "id": "85b2b6da-c686-46d7-9f38-4d0254e41779",
   "metadata": {},
   "outputs": [],
   "source": [
    "f = [a for a in d if a['AnnotationType'] == '- Concerns/Observations']"
   ]
  },
  {
   "cell_type": "code",
   "execution_count": 4,
   "id": "2bb766e5-f6a4-4d2e-8f22-1a9ae4895591",
   "metadata": {},
   "outputs": [],
   "source": [
    "df = pd.DataFrame(f)"
   ]
  },
  {
   "cell_type": "code",
   "execution_count": 5,
   "id": "4ae54027-3d08-4d42-b6a1-25410aca5cce",
   "metadata": {},
   "outputs": [],
   "source": [
    "df['PublicationDate'] = pd.to_datetime(df['PublicationDate'],  format='%Y-%m-%dT%H:%M:%S')"
   ]
  },
  {
   "cell_type": "code",
   "execution_count": 6,
   "id": "d23d57cb-e5b9-4cc9-8e69-c14e3a636ec6",
   "metadata": {},
   "outputs": [],
   "source": [
    "df.sort_values(by=['PublicationDate', 'DocumentId'], ascending=False, inplace=True)"
   ]
  },
  {
   "cell_type": "code",
   "execution_count": 9,
   "id": "afbe4de6-a48a-4c30-af7e-e7abf9f8513e",
   "metadata": {},
   "outputs": [
    {
     "data": {
      "text/plain": [
       "Index(['AnnotationId', 'Symbol', 'Text', 'DocumentId', 'PublicationDate',\n",
       "       'AnnotationType', 'Countries', 'AffectedPersons', 'Themes', 'Sdgs',\n",
       "       'UprPositions', 'UprSession', 'UprRecommendingCountry', 'UprCycle',\n",
       "       'UprRecommendingRegions', 'Regions', 'PublicationDateOnUhri', 'Body'],\n",
       "      dtype='object')"
      ]
     },
     "execution_count": 9,
     "metadata": {},
     "output_type": "execute_result"
    }
   ],
   "source": [
    "df.columns"
   ]
  },
  {
   "cell_type": "code",
   "execution_count": 10,
   "id": "2a6fcd51-09a8-4783-9b6d-b4c929a47e41",
   "metadata": {},
   "outputs": [],
   "source": [
    "df = df.drop(columns=['AnnotationId', 'Symbol',\n",
    "       'AnnotationType', 'Sdgs',\n",
    "       'UprPositions', 'UprSession', 'UprRecommendingCountry', 'UprCycle',\n",
    "       'UprRecommendingRegions', 'Regions', 'PublicationDateOnUhri', 'Body'])"
   ]
  },
  {
   "cell_type": "code",
   "execution_count": 11,
   "id": "ed0b3aa4-2807-454c-8d23-82d17372df6f",
   "metadata": {},
   "outputs": [
    {
     "data": {
      "text/plain": [
       "Index(['Text', 'DocumentId', 'PublicationDate', 'Countries', 'AffectedPersons',\n",
       "       'Themes'],\n",
       "      dtype='object')"
      ]
     },
     "execution_count": 11,
     "metadata": {},
     "output_type": "execute_result"
    }
   ],
   "source": [
    "df.columns"
   ]
  },
  {
   "cell_type": "code",
   "execution_count": 12,
   "id": "75134d6e-2bb3-44c2-969f-c333c23f3826",
   "metadata": {},
   "outputs": [],
   "source": [
    "countries = list(set(chain.from_iterable(df['Countries'])))"
   ]
  },
  {
   "cell_type": "code",
   "execution_count": 7,
   "id": "55682581-425b-48c7-9391-eff41a25453f",
   "metadata": {},
   "outputs": [],
   "source": [
    "custom_country_dict = {\n",
    "    'Afghanistan': 'AFG',\n",
    "    'Albania': 'ALB',\n",
    "    'Algeria': 'DZA',\n",
    "    'Andorra': 'AND',\n",
    "    'Angola': 'AGO',\n",
    "    'Antigua and Barbuda': 'ATG',\n",
    "    'Argentina': 'ARG',\n",
    "    'Armenia': 'ARM',\n",
    "    'Australia': 'AUS',\n",
    "    'Austria': 'AUT',\n",
    "    'Azerbaijan': 'AZE',\n",
    "    'Bahamas': 'BHS',\n",
    "    'Bahrain': 'BHR',\n",
    "    'Bangladesh': 'BGD',\n",
    "    'Barbados': 'BRB',\n",
    "    'Belarus': 'BLR',\n",
    "    'Belgium': 'BEL',\n",
    "    'Belize': 'BLZ',\n",
    "    'Benin': 'BEN',\n",
    "    'Bhutan': 'BTN',\n",
    "    'Bolivia (Plurinational State of)': 'BOL',\n",
    "    'Bosnia and Herzegovina': 'BIH',\n",
    "    'Botswana': 'BWA',\n",
    "    'Brazil': 'BRA',\n",
    "    'Brunei Darussalam': 'BRN',\n",
    "    'Bulgaria': 'BGR',\n",
    "    'Burkina Faso': 'BFA',\n",
    "    'Burundi': 'BDI',\n",
    "    'Cabo Verde': 'CPV',\n",
    "    'Cambodia': 'KHM',\n",
    "    'Cameroon': 'CMR',\n",
    "    'Canada': 'CAN',\n",
    "    'Central African Republic': 'CAF',\n",
    "    'Chad': 'TCD',\n",
    "    'Chile': 'CHL',\n",
    "    'China': 'CHN',\n",
    "    'Colombia': 'COL',\n",
    "    'Comoros': 'COM',\n",
    "    'Congo': 'COG',\n",
    "    'Costa Rica': 'CRI',\n",
    "    'Croatia': 'HRV',\n",
    "    'Cuba': 'CUB',\n",
    "    'Cyprus': 'CYP',\n",
    "    'Czechia': 'CZE',\n",
    "    'Denmark': 'DNK',\n",
    "    'Democratic People\\'s Republic of Korea': 'PRK',\n",
    "    'Democratic Republic of the Congo': 'COD',\n",
    "    'Djibouti': 'DJI',\n",
    "    'Dominica': 'DMA',\n",
    "    'Dominican Republic': 'DOM',\n",
    "    'Ecuador': 'ECU',\n",
    "    'Egypt': 'EGY',\n",
    "    'El Salvador': 'SLV',\n",
    "    'Equatorial Guinea': 'GNQ',\n",
    "    'Eritrea': 'ERI',\n",
    "    'Estonia': 'EST',\n",
    "    'Eswatini': 'SWZ',\n",
    "    'Ethiopia': 'ETH',\n",
    "    'European Union': 'EUU',\n",
    "    'Fiji': 'FJI',\n",
    "    'Finland': 'FIN',\n",
    "    'France': 'FRA',\n",
    "    'Gabon': 'GAB',\n",
    "    'Gambia': 'GMB',\n",
    "    'Georgia': 'GEO',\n",
    "    'Germany': 'DEU',\n",
    "    'Ghana': 'GHA',\n",
    "    'Greece': 'GRC',\n",
    "    'Grenada': 'GRD',\n",
    "    'Guatemala': 'GTM',\n",
    "    'Guinea': 'GIN',\n",
    "    'Guinea-Bissau': 'GNB',\n",
    "    'Guyana': 'GUY',\n",
    "    'Haiti': 'HTI',\n",
    "    'Holy See': 'VAT',\n",
    "    'Honduras': 'HND',\n",
    "    'Hungary': 'HUN',\n",
    "    'Iceland': 'ISL',\n",
    "    'India': 'IND',\n",
    "    'Indonesia': 'IDN',\n",
    "    'Iran (Islamic Republic of)': 'IRN',\n",
    "    'Iraq': 'IRQ',\n",
    "    'Ireland': 'IRL',\n",
    "    'Israel': 'ISR',\n",
    "    'Italy': 'ITA',\n",
    "    'Jamaica': 'JAM',\n",
    "    'Japan': 'JPN',\n",
    "    'Jordan': 'JOR',\n",
    "    'Kazakhstan': 'KAZ',\n",
    "    'Kenya': 'KEN',\n",
    "    'Kiribati': 'KIR',\n",
    "    'Kosovo*': 'XKX',\n",
    "    'Kuwait': 'KWT',\n",
    "    'Kyrgyzstan': 'KGZ',\n",
    "    'Lao People\\'s Democratic Republic': 'LAO',\n",
    "    'Latvia': 'LVA',\n",
    "    'Lebanon': 'LBN',\n",
    "    'Lesotho': 'LSO',\n",
    "    'Liberia': 'LBR',\n",
    "    'Libya': 'LBY',\n",
    "    'Liechtenstein': 'LIE',\n",
    "    'Lithuania': 'LTU',\n",
    "    'Luxembourg': 'LUX',\n",
    "    'Madagascar': 'MDG',\n",
    "    'Malawi': 'MWI',\n",
    "    'Malaysia': 'MYS',\n",
    "    'Maldives': 'MDV',\n",
    "    'Mali': 'MLI',\n",
    "    'Malta': 'MLT',\n",
    "    'Marshall Islands': 'MHL',\n",
    "    'Mauritania': 'MRT',\n",
    "    'Mauritius': 'MUS',\n",
    "    'Mexico': 'MEX',\n",
    "    'Micronesia (Federated States of)': 'FSM',\n",
    "    'Moldova': 'MDA',\n",
    "    'Monaco': 'MCO',\n",
    "    'Mongolia': 'MNG',\n",
    "    'Montenegro': 'MNE',\n",
    "    'Morocco': 'MAR',\n",
    "    'Mozambique': 'MOZ',\n",
    "    'Myanmar': 'MMR',\n",
    "    'Namibia': 'NAM',\n",
    "    'Nauru': 'NRU',\n",
    "    'Nepal': 'NPL',\n",
    "    'Netherlands': 'NLD',\n",
    "    'New Zealand': 'NZL',\n",
    "    'Nicaragua': 'NIC',\n",
    "    'Niger': 'NER',\n",
    "    'Nigeria': 'NGA',\n",
    "    'Niue': 'NIU',\n",
    "    'North Macedonia': 'MKD',\n",
    "    'Norway': 'NOR',\n",
    "    'Oman': 'OMN',\n",
    "    'Pakistan': 'PAK',\n",
    "    'Palau': 'PLW',\n",
    "    'Panama': 'PAN',\n",
    "    'Papua New Guinea': 'PNG',\n",
    "    'Paraguay': 'PRY',\n",
    "    'Peru': 'PER',\n",
    "    'Philippines': 'PHL',\n",
    "    'Poland': 'POL',\n",
    "    'Portugal': 'PRT',\n",
    "    'Qatar': 'QAT',\n",
    "    'Republic of Korea': 'KOR',\n",
    "    'Republic of Moldova': 'MDA',\n",
    "    'Romania': 'ROU',\n",
    "    'Russian Federation': 'RUS',\n",
    "    'Rwanda': 'RWA',\n",
    "    'Saint Kitts and Nevis': 'KNA',\n",
    "    'Saint Lucia': 'LCA',\n",
    "    'Saint Vincent and the Grenadines': 'VCT',\n",
    "    'Samoa': 'WSM',\n",
    "    'San Marino': 'SMR',\n",
    "    'Sao Tome and Principe': 'STP',\n",
    "    'Saudi Arabia': 'SAU',\n",
    "    'Senegal': 'SEN',\n",
    "    'Serbia': 'SRB',\n",
    "    'Seychelles': 'SYC',\n",
    "    'Sierra Leone': 'SLE',\n",
    "    'Singapore': 'SGP',\n",
    "    'Slovakia': 'SVK',\n",
    "    'Slovenia': 'SVN',\n",
    "    'Solomon Islands': 'SLB',\n",
    "    'Somalia': 'SOM',\n",
    "    'South Africa': 'ZAF',\n",
    "    'South Sudan': 'SSD',\n",
    "    'Spain': 'ESP',\n",
    "    'Sri Lanka': 'LKA',\n",
    "    'Sudan': 'SDN',\n",
    "    'Suriname': 'SUR',\n",
    "    'Sweden': 'SWE',\n",
    "    'Switzerland': 'CHE',\n",
    "    'Syrian Arab Republic': 'SYR',\n",
    "    'Taiwan': 'TWN',\n",
    "    'Tajikistan': 'TJK',\n",
    "    'Tanzania': 'TZA',\n",
    "    'Thailand': 'THA',\n",
    "    'Timor-Leste': 'TLS',\n",
    "    'Togo': 'TGO',\n",
    "    'Tonga': 'TON',\n",
    "    'Trinidad and Tobago': 'TTO',\n",
    "    'Tunisia': 'TUN',\n",
    "    'Turkey': 'TUR',\n",
    "    'Turkmenistan': 'TKM',\n",
    "    'Tuvalu': 'TUV',\n",
    "    'Uganda': 'UGA',\n",
    "    'Ukraine': 'UKR',\n",
    "    'United Arab Emirates': 'ARE',\n",
    "    'United Kingdom of Great Britain and Northern Ireland': 'GBR',\n",
    "    'United Republic of Tanzania': 'TZA',\n",
    "    'United States of America': 'USA',\n",
    "    'Uruguay': 'URY',\n",
    "    'Uzbekistan': 'UZB',\n",
    "    'Vanuatu': 'VUT',\n",
    "    'Venezuela (Bolivarian Republic of)': 'VEN',\n",
    "    'Viet Nam': 'VNM',\n",
    "    'Yemen': 'YEM',\n",
    "    'Zambia': 'ZMB',\n",
    "    'Zimbabwe': 'ZWE',\n",
    "    'State of Palestine*': 'PSE',\n",
    "    'Cook Islands': 'COK',\n",
    "    'Côte d\\'Ivoire': 'CIV',\n",
    "    'Türkiye': 'TUR',\n",
    "}"
   ]
  },
  {
   "cell_type": "code",
   "execution_count": null,
   "id": "96107ab0-badb-4ba7-8479-50ca197d0968",
   "metadata": {},
   "outputs": [],
   "source": [
    "# next step, create a py file which puts this into the databse \n",
    "# one document id should be one text, include all basic information"
   ]
  }
 ],
 "metadata": {
  "kernelspec": {
   "display_name": "Python 3 (ipykernel)",
   "language": "python",
   "name": "python3"
  },
  "language_info": {
   "codemirror_mode": {
    "name": "ipython",
    "version": 3
   },
   "file_extension": ".py",
   "mimetype": "text/x-python",
   "name": "python",
   "nbconvert_exporter": "python",
   "pygments_lexer": "ipython3",
   "version": "3.10.9"
  }
 },
 "nbformat": 4,
 "nbformat_minor": 5
}
