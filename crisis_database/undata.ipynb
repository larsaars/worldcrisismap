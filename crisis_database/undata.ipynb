{
 "cells": [
  {
   "cell_type": "code",
   "execution_count": 16,
   "id": "5136239c-015e-4f9b-9163-6a7a7d997d94",
   "metadata": {},
   "outputs": [],
   "source": [
    "import pandas as pd\n",
    "import json\n",
    "from itertools import chain\n",
    "import json"
   ]
  },
  {
   "cell_type": "code",
   "execution_count": 2,
   "id": "23d10509-c481-4608-8718-cd090348f51c",
   "metadata": {},
   "outputs": [],
   "source": [
    "d = json.load(open('/home/me/Downloads/export-full-en.json'))"
   ]
  },
  {
   "cell_type": "code",
   "execution_count": 3,
   "id": "85b2b6da-c686-46d7-9f38-4d0254e41779",
   "metadata": {},
   "outputs": [],
   "source": [
    "f = [a for a in d if a['AnnotationType'] == '- Concerns/Observations']"
   ]
  },
  {
   "cell_type": "code",
   "execution_count": 4,
   "id": "2bb766e5-f6a4-4d2e-8f22-1a9ae4895591",
   "metadata": {},
   "outputs": [],
   "source": [
    "df = pd.DataFrame(f)"
   ]
  },
  {
   "cell_type": "code",
   "execution_count": 5,
   "id": "4ae54027-3d08-4d42-b6a1-25410aca5cce",
   "metadata": {},
   "outputs": [],
   "source": [
    "df['PublicationDate'] = pd.to_datetime(df['PublicationDate'],  format='%Y-%m-%dT%H:%M:%S')"
   ]
  },
  {
   "cell_type": "code",
   "execution_count": 6,
   "id": "d23d57cb-e5b9-4cc9-8e69-c14e3a636ec6",
   "metadata": {},
   "outputs": [],
   "source": [
    "df.sort_values(by=['PublicationDate', 'DocumentId'], ascending=False, inplace=True)"
   ]
  },
  {
   "cell_type": "code",
   "execution_count": 7,
   "id": "afbe4de6-a48a-4c30-af7e-e7abf9f8513e",
   "metadata": {},
   "outputs": [
    {
     "data": {
      "text/plain": [
       "Index(['AnnotationId', 'Symbol', 'Text', 'DocumentId', 'PublicationDate',\n",
       "       'AnnotationType', 'Countries', 'AffectedPersons', 'Themes', 'Sdgs',\n",
       "       'UprPositions', 'UprSession', 'UprRecommendingCountry', 'UprCycle',\n",
       "       'UprRecommendingRegions', 'Regions', 'PublicationDateOnUhri', 'Body'],\n",
       "      dtype='object')"
      ]
     },
     "execution_count": 7,
     "metadata": {},
     "output_type": "execute_result"
    }
   ],
   "source": [
    "df.columns"
   ]
  },
  {
   "cell_type": "code",
   "execution_count": 8,
   "id": "2a6fcd51-09a8-4783-9b6d-b4c929a47e41",
   "metadata": {},
   "outputs": [],
   "source": [
    "df = df.drop(columns=['AnnotationId', 'Symbol',\n",
    "       'AnnotationType', 'Sdgs',\n",
    "       'UprPositions', 'UprSession', 'UprRecommendingCountry', 'UprCycle',\n",
    "       'UprRecommendingRegions', 'Regions', 'PublicationDateOnUhri', 'Body'])"
   ]
  },
  {
   "cell_type": "code",
   "execution_count": 18,
   "id": "77cd10c6-c45c-437e-a309-59c872d5540b",
   "metadata": {},
   "outputs": [],
   "source": [
    "with open('/home/me/projects/worldcrisismap/crisis_database/mappers/ohchr_country_mapping.json', 'r') as f:\n",
    "    country_dict = json.load(f)"
   ]
  },
  {
   "cell_type": "code",
   "execution_count": 10,
   "id": "96107ab0-badb-4ba7-8479-50ca197d0968",
   "metadata": {},
   "outputs": [],
   "source": [
    "# next step, create a py file which puts this into the databse \n",
    "# one document id should be one text, include all basic information"
   ]
  },
  {
   "cell_type": "code",
   "execution_count": 24,
   "id": "46335abd-23c3-4c82-99b2-dc48afc37b76",
   "metadata": {},
   "outputs": [],
   "source": [
    "# loop through each single document\n",
    "for doc_id in set(df.DocumentId.values):\n",
    "    entries = df[df.DocumentId == doc_id]\n",
    "    # the country codes involved in the document\n",
    "    # what happens here?\n",
    "    # flatten Countries values (2d list) from dataframe with sum function\n",
    "    # then map all the country codes from the dict from the names\n",
    "    countries = list(map(lambda key: country_dict[key]['iso3'], set(sum(list(entries.Countries.values), start=[]))))\n",
    "    "
   ]
  },
  {
   "cell_type": "code",
   "execution_count": 25,
   "id": "4e0f1182-6f34-4d22-8d70-19edfcc4e7ee",
   "metadata": {},
   "outputs": [
    {
     "data": {
      "text/plain": [
       "['CAF']"
      ]
     },
     "execution_count": 25,
     "metadata": {},
     "output_type": "execute_result"
    }
   ],
   "source": []
  }
 ],
 "metadata": {
  "kernelspec": {
   "display_name": "Python 3 (ipykernel)",
   "language": "python",
   "name": "python3"
  },
  "language_info": {
   "codemirror_mode": {
    "name": "ipython",
    "version": 3
   },
   "file_extension": ".py",
   "mimetype": "text/x-python",
   "name": "python",
   "nbconvert_exporter": "python",
   "pygments_lexer": "ipython3",
   "version": "3.10.9"
  }
 },
 "nbformat": 4,
 "nbformat_minor": 5
}
