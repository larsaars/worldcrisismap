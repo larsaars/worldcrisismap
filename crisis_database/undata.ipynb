{
 "cells": [
  {
   "cell_type": "code",
   "execution_count": 1,
   "id": "5136239c-015e-4f9b-9163-6a7a7d997d94",
   "metadata": {},
   "outputs": [],
   "source": [
    "import pandas as pd\n",
    "import json"
   ]
  },
  {
   "cell_type": "code",
   "execution_count": 7,
   "id": "2bb766e5-f6a4-4d2e-8f22-1a9ae4895591",
   "metadata": {},
   "outputs": [
    {
     "ename": "TypeError",
     "evalue": "read_json() got an unexpected keyword argument 'columns'",
     "output_type": "error",
     "traceback": [
      "\u001b[0;31m---------------------------------------------------------------------------\u001b[0m",
      "\u001b[0;31mTypeError\u001b[0m                                 Traceback (most recent call last)",
      "Cell \u001b[0;32mIn[7], line 1\u001b[0m\n\u001b[0;32m----> 1\u001b[0m df \u001b[38;5;241m=\u001b[39m \u001b[43mpd\u001b[49m\u001b[38;5;241;43m.\u001b[39;49m\u001b[43mread_json\u001b[49m\u001b[43m(\u001b[49m\u001b[38;5;124;43m'\u001b[39;49m\u001b[38;5;124;43mhttps://dataex.ohchr.org/uhri/export-results/export-full-en.json\u001b[39;49m\u001b[38;5;124;43m'\u001b[39;49m\u001b[43m,\u001b[49m\u001b[43m \u001b[49m\u001b[43mcolumns\u001b[49m\u001b[38;5;241;43m=\u001b[39;49m\u001b[43m[\u001b[49m\u001b[38;5;124;43m'\u001b[39;49m\u001b[38;5;124;43mText\u001b[39;49m\u001b[38;5;124;43m'\u001b[39;49m\u001b[43m,\u001b[49m\u001b[43m \u001b[49m\u001b[38;5;124;43m'\u001b[39;49m\u001b[38;5;124;43mDocumentId\u001b[39;49m\u001b[38;5;124;43m'\u001b[39;49m\u001b[43m,\u001b[49m\u001b[43m \u001b[49m\u001b[38;5;124;43m'\u001b[39;49m\u001b[38;5;124;43mAnnotationType\u001b[39;49m\u001b[38;5;124;43m'\u001b[39;49m\u001b[43m,\u001b[49m\u001b[43m \u001b[49m\u001b[38;5;124;43m'\u001b[39;49m\u001b[38;5;124;43mPublicationDate\u001b[39;49m\u001b[38;5;124;43m'\u001b[39;49m\u001b[43m,\u001b[49m\u001b[43m \u001b[49m\u001b[38;5;124;43m'\u001b[39;49m\u001b[38;5;124;43mCountries\u001b[39;49m\u001b[38;5;124;43m'\u001b[39;49m\u001b[43m]\u001b[49m\u001b[43m)\u001b[49m\n",
      "File \u001b[0;32m~/miniconda3/lib/python3.10/site-packages/pandas/util/_decorators.py:211\u001b[0m, in \u001b[0;36mdeprecate_kwarg.<locals>._deprecate_kwarg.<locals>.wrapper\u001b[0;34m(*args, **kwargs)\u001b[0m\n\u001b[1;32m    209\u001b[0m     \u001b[38;5;28;01melse\u001b[39;00m:\n\u001b[1;32m    210\u001b[0m         kwargs[new_arg_name] \u001b[38;5;241m=\u001b[39m new_arg_value\n\u001b[0;32m--> 211\u001b[0m \u001b[38;5;28;01mreturn\u001b[39;00m \u001b[43mfunc\u001b[49m\u001b[43m(\u001b[49m\u001b[38;5;241;43m*\u001b[39;49m\u001b[43margs\u001b[49m\u001b[43m,\u001b[49m\u001b[43m \u001b[49m\u001b[38;5;241;43m*\u001b[39;49m\u001b[38;5;241;43m*\u001b[39;49m\u001b[43mkwargs\u001b[49m\u001b[43m)\u001b[49m\n",
      "File \u001b[0;32m~/miniconda3/lib/python3.10/site-packages/pandas/util/_decorators.py:331\u001b[0m, in \u001b[0;36mdeprecate_nonkeyword_arguments.<locals>.decorate.<locals>.wrapper\u001b[0;34m(*args, **kwargs)\u001b[0m\n\u001b[1;32m    325\u001b[0m \u001b[38;5;28;01mif\u001b[39;00m \u001b[38;5;28mlen\u001b[39m(args) \u001b[38;5;241m>\u001b[39m num_allow_args:\n\u001b[1;32m    326\u001b[0m     warnings\u001b[38;5;241m.\u001b[39mwarn(\n\u001b[1;32m    327\u001b[0m         msg\u001b[38;5;241m.\u001b[39mformat(arguments\u001b[38;5;241m=\u001b[39m_format_argument_list(allow_args)),\n\u001b[1;32m    328\u001b[0m         \u001b[38;5;167;01mFutureWarning\u001b[39;00m,\n\u001b[1;32m    329\u001b[0m         stacklevel\u001b[38;5;241m=\u001b[39mfind_stack_level(),\n\u001b[1;32m    330\u001b[0m     )\n\u001b[0;32m--> 331\u001b[0m \u001b[38;5;28;01mreturn\u001b[39;00m \u001b[43mfunc\u001b[49m\u001b[43m(\u001b[49m\u001b[38;5;241;43m*\u001b[39;49m\u001b[43margs\u001b[49m\u001b[43m,\u001b[49m\u001b[43m \u001b[49m\u001b[38;5;241;43m*\u001b[39;49m\u001b[38;5;241;43m*\u001b[39;49m\u001b[43mkwargs\u001b[49m\u001b[43m)\u001b[49m\n",
      "\u001b[0;31mTypeError\u001b[0m: read_json() got an unexpected keyword argument 'columns'"
     ]
    }
   ],
   "source": [
    "df = pd.read_json('https://dataex.ohchr.org/uhri/export-results/export-full-en.json', columns=['Text', 'DocumentId', 'AnnotationType', 'PublicationDate', 'Countries'])"
   ]
  },
  {
   "cell_type": "code",
   "execution_count": 3,
   "id": "cc53aa0f-7ee9-4197-971d-0935a0aed210",
   "metadata": {},
   "outputs": [
    {
     "data": {
      "text/plain": [
       "[('df', 431233959), ('open', 144), ('pd', 72)]"
      ]
     },
     "execution_count": 3,
     "metadata": {},
     "output_type": "execute_result"
    }
   ],
   "source": [
    "import sys\n",
    "\n",
    "# These are the usual ipython objects, including this one you are creating\n",
    "ipython_vars = ['In', 'Out', 'exit', 'quit', 'get_ipython', 'ipython_vars']\n",
    "\n",
    "# Get a sorted list of the objects and their sizes\n",
    "sorted([(x, sys.getsizeof(globals().get(x))) for x in dir() if not x.startswith('_') and x not in sys.modules and x not in ipython_vars], key=lambda x: x[1], reverse=True)"
   ]
  },
  {
   "cell_type": "code",
   "execution_count": 4,
   "id": "5422e59c-46b8-4806-b1c0-2ebc5c86a6e8",
   "metadata": {},
   "outputs": [],
   "source": [
    "df = df[df.AnnotationType == '- Concerns/Observations']"
   ]
  },
  {
   "cell_type": "code",
   "execution_count": 52,
   "id": "4ae54027-3d08-4d42-b6a1-25410aca5cce",
   "metadata": {},
   "outputs": [],
   "source": [
    "# df = df['PublicationDate'] = pd.to_datetime(df['PublicationDate'],  format='%Y-%m-%dT%H:%M:%S')"
   ]
  },
  {
   "cell_type": "code",
   "execution_count": 53,
   "id": "d23d57cb-e5b9-4cc9-8e69-c14e3a636ec6",
   "metadata": {},
   "outputs": [],
   "source": [
    "# df.sort_values(by=['PublicationDate', 'DocumentId'], ascending=False, inplace=True)"
   ]
  },
  {
   "cell_type": "code",
   "execution_count": 5,
   "id": "2a6fcd51-09a8-4783-9b6d-b4c929a47e41",
   "metadata": {},
   "outputs": [],
   "source": [
    "df = df.drop(columns=['AnnotationId', 'Symbol',\n",
    "       'AnnotationType', 'Sdgs',\n",
    "       'UprPositions', 'UprSession', 'UprRecommendingCountry', 'UprCycle',\n",
    "       'UprRecommendingRegions', 'Regions', 'PublicationDateOnUhri', 'Body', 'AffectedPersons', 'Themes'])"
   ]
  },
  {
   "cell_type": "code",
   "execution_count": 6,
   "id": "906db24c-69f7-4053-a3f3-361a767f555b",
   "metadata": {},
   "outputs": [
    {
     "data": {
      "text/plain": [
       "Index(['Text', 'DocumentId', 'PublicationDate', 'Countries'], dtype='object')"
      ]
     },
     "execution_count": 6,
     "metadata": {},
     "output_type": "execute_result"
    }
   ],
   "source": [
    "df.columns"
   ]
  },
  {
   "cell_type": "code",
   "execution_count": 8,
   "id": "77cd10c6-c45c-437e-a309-59c872d5540b",
   "metadata": {},
   "outputs": [],
   "source": [
    "with open('/home/me/projects/worldcrisismap/crisis_database/mappers/uhri_country_mapping.json', 'r') as f:\n",
    "    country_dict = json.load(f)"
   ]
  },
  {
   "cell_type": "code",
   "execution_count": 9,
   "id": "46335abd-23c3-4c82-99b2-dc48afc37b76",
   "metadata": {
    "editable": true,
    "slideshow": {
     "slide_type": ""
    },
    "tags": []
   },
   "outputs": [],
   "source": [
    "# loop through each single document\n",
    "for doc_id in set(df.DocumentId.values):\n",
    "    entries = df[df.DocumentId == doc_id]\n",
    "\n",
    "    # these information are needed:\n",
    "    # - date\n",
    "    # - country name\n",
    "    # - geojson paths (from country iso3s)\n",
    "    # - lat / lon\n",
    "    # - title\n",
    "    # - text\n",
    "\n",
    "    # all unique country codes involved in the document\n",
    "    country_names_involved = list(set(sum(list(entries.Countries.values), start=[])))\n",
    "\n",
    "    # if there are no country names involved, skip entry\n",
    "    if len(country_names_involved) == 0:\n",
    "        continue\n",
    "    \n",
    "    date = entries.PublicationDate.values[0]\n",
    "    country_name = country_names_involved[0]  # only one first country name is needed\n",
    "    \n",
    "    geojson = ['countries/' + country_dict[country]['iso3'] + '.json' for country in country_names_involved]\n",
    "    \n",
    "    lat, lon = country_dict[country_name]['lat'], country_dict[country_name]['lon']\n",
    "\n",
    "    title = 'Human Right Violations in ' + country_name\n",
    "    text = '<br>'.join(list(entries.Text.values))"
   ]
  }
 ],
 "metadata": {
  "kernelspec": {
   "display_name": "Python 3 (ipykernel)",
   "language": "python",
   "name": "python3"
  },
  "language_info": {
   "codemirror_mode": {
    "name": "ipython",
    "version": 3
   },
   "file_extension": ".py",
   "mimetype": "text/x-python",
   "name": "python",
   "nbconvert_exporter": "python",
   "pygments_lexer": "ipython3",
   "version": "3.10.9"
  }
 },
 "nbformat": 4,
 "nbformat_minor": 5
}
