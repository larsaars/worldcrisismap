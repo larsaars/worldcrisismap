{
 "cells": [
  {
   "cell_type": "code",
   "execution_count": 1,
   "id": "6d2607e2-be51-41d0-a263-80f80176d11e",
   "metadata": {},
   "outputs": [],
   "source": [
    "import matplotlib.pyplot as plt\n",
    "from matplotlib.ticker import FuncFormatter\n",
    "import pandas as pd\n",
    "import numpy as np\n",
    "import json"
   ]
  },
  {
   "cell_type": "code",
   "execution_count": 2,
   "id": "91bd29ec-cf0a-494f-ac60-a46651bc6b59",
   "metadata": {},
   "outputs": [],
   "source": [
    "df_net_worth = pd.read_csv('net_worth.csv', sep=';')\n",
    "df_pre_tax_income = pd.read_csv('pre_tax_income.csv', sep=';')"
   ]
  },
  {
   "cell_type": "code",
   "execution_count": 3,
   "id": "9db7102b-5242-43d0-a5c7-7fa1eaeb4933",
   "metadata": {},
   "outputs": [],
   "source": [
    "countries_available = df_net_worth.country.unique()"
   ]
  },
  {
   "cell_type": "code",
   "execution_count": 4,
   "id": "fde7e635-b50b-46c1-a9fc-3ccf524971bd",
   "metadata": {},
   "outputs": [],
   "source": [
    "with open('country_iso2_mapper.json', 'r') as f:\n",
    "    country_iso2_mapper = json.load(f)"
   ]
  },
  {
   "cell_type": "code",
   "execution_count": 5,
   "id": "caa06497-45c1-4d6f-a4b7-4f5202e5eb1c",
   "metadata": {},
   "outputs": [],
   "source": [
    "html = '''\n",
    "<style>\n",
    "    .imgbox {\n",
    "        display: grid;\n",
    "        height: 100%;\n",
    "    }\n",
    "    \n",
    "    .center-fit {\n",
    "        max-width: 100%;\n",
    "        max-height: 100vh;\n",
    "        margin: auto;\n",
    "        margin-top: 20px;\n",
    "    }\n",
    "</style>\n",
    "\n",
    "<h2>Inequality Worldwide</h2>\n",
    "<p>The <a href=\"https://wid.world/\" target=\"_blank\">World Inequality Database provides data</a> for almost all countries in the world concerning:\n",
    "<ul>\n",
    "    <li>The net worth distribution for the top 1%, top 10% and bottom 50%</li>\n",
    "    <li>The pre-tax income distribution of the top 1%, top 10% and bottom 50%</li>\n",
    "    <li>The women's share of the pre-tax income distribution</li>\n",
    "</ul>\n",
    "of the respective country.</p>\n",
    "<h2>Graphs</h2>\n",
    "'''"
   ]
  },
  {
   "cell_type": "code",
   "execution_count": 6,
   "id": "0edb026b-641a-47ea-a1c8-27da10a5fc85",
   "metadata": {
    "editable": true,
    "scrolled": true,
    "slideshow": {
     "slide_type": ""
    },
    "tags": []
   },
   "outputs": [],
   "source": [
    "for country in countries_available:\n",
    "    # two subplots\n",
    "    fig, axes = plt.subplots(1, 3, figsize=(20, 10))\n",
    "    \n",
    "    def plot_percentiles(df, country, ax, ylabel, percentiles_available, percentiles_titles):\n",
    "        # show percentages on legend\n",
    "        ax.yaxis.set_major_formatter(FuncFormatter(lambda y , _: '{:.0%}'.format(y)))\n",
    "        # set max y should show 100%\n",
    "        ax.set_ylim(0, 1)\n",
    "        # show ygrid\n",
    "        ax.yaxis.grid(True, linestyle='--', alpha=0.7)\n",
    "        # plot all percentiles_available\n",
    "        # with years on X and percentage values on Y\n",
    "        for i in range(len(percentiles_available)):\n",
    "            part = df[(df.country == country) & (df.percentile == percentiles_available[i])]\n",
    "            ax.plot(part.year.values, part.value.values, label=percentiles_titles[i])\n",
    "        # show the legend\n",
    "        ax.legend()\n",
    "        # set x label is years\n",
    "        ax.set_xlabel('years')\n",
    "        # and ylabel\n",
    "        ax.set_ylabel(ylabel)\n",
    "        \n",
    "        \n",
    "    # the 0 subplot is for the net worth of the percentiles\n",
    "    # p0p50, p90p100, p99p100\n",
    "    axes[0].set_title(f'net worth distribution in {country}')\n",
    "    plot_percentiles(df_net_worth, country, axes[0],\n",
    "                     f'% {country}\\'s aggregate net worth',\n",
    "                    ['p0p50', 'p90p100', 'p99p100'],\n",
    "                    ['bottom 50%', 'top 10%', 'top 1%'])\n",
    "    \n",
    "    # the second subplot is for the pre-tax income of the same percentiles\n",
    "    # of the respecive country\n",
    "    axes[1].set_title(f'pre-tax income distribution in {country}')\n",
    "    plot_percentiles(df_pre_tax_income, country, axes[1],\n",
    "                     f'% {country}\\'s aggregate pre-tax income',\n",
    "                    ['p0p50', 'p90p100', 'p99p100'],\n",
    "                    ['bottom 50%', 'top 10%', 'top 1%'])\n",
    "\n",
    "    # the third subplot plots women's share of pre-tax income\n",
    "    axes[2].set_title(f'pre-tax income distribution in {country}')\n",
    "    # plot men's distribution (which is 1 - women's)\n",
    "    part = df_pre_tax_income[(df_pre_tax_income.country == country) & (df_pre_tax_income.percentile == 'p0p100')]\n",
    "    axes[2].plot(part.year.values, 1 - part.value.values, label='men')\n",
    "    \n",
    "    plot_percentiles(df_pre_tax_income, country, axes[2],\n",
    "                     f'% {country}\\'s aggregate pre-tax income',\n",
    "                     ['p0p100'],\n",
    "                     ['women'])\n",
    "\n",
    "\n",
    "    # make tight layout\n",
    "    plt.tight_layout()\n",
    "\n",
    "    # save as file\n",
    "    file_name = country_iso2_mapper[country] + '.png'\n",
    "    plt.savefig('../public/inequality_graphs/' + file_name, dpi=100, bbox_inches='tight', format='png')\n",
    "\n",
    "    # close figure\n",
    "    plt.close()\n",
    "\n",
    "    # and append to html (title and image)\n",
    "    html += f'\\n<h3>{country}</h3>'\n",
    "    html += f'\\n<div class=\"imgbox\"><img src=\"/inequality_graphs/{file_name}\" alt=\"{country} inequality graph\" class=\"center-fit\" onclick=\"enlargeImage(this)\"></div><br><br><br>'"
   ]
  },
  {
   "cell_type": "code",
   "execution_count": 7,
   "id": "a2aa91b2-bd56-487e-ad42-faa8ad3ad58b",
   "metadata": {},
   "outputs": [],
   "source": [
    "# write html to file\n",
    "with open('../views/inequality-worldwide.hbs', 'w') as f:\n",
    "    f.write(html)"
   ]
  }
 ],
 "metadata": {
  "kernelspec": {
   "display_name": "Python 3 (ipykernel)",
   "language": "python",
   "name": "python3"
  },
  "language_info": {
   "codemirror_mode": {
    "name": "ipython",
    "version": 3
   },
   "file_extension": ".py",
   "mimetype": "text/x-python",
   "name": "python",
   "nbconvert_exporter": "python",
   "pygments_lexer": "ipython3",
   "version": "3.10.9"
  }
 },
 "nbformat": 4,
 "nbformat_minor": 5
}
